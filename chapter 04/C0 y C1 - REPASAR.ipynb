{
 "cells": [
  {
   "cell_type": "markdown",
   "id": "d81d6524",
   "metadata": {},
   "source": [
    "![alternative](./imgs/4.1.png)"
   ]
  },
  {
   "cell_type": "code",
   "execution_count": 17,
   "id": "76a13115",
   "metadata": {},
   "outputs": [
    {
     "name": "stdout",
     "output_type": "stream",
     "text": [
      "0b1111110011\n",
      "0b1\n",
      "0b111111001\n",
      "0b0\n",
      "0b11111100\n",
      "0b0\n",
      "0b1111110\n",
      "0b0\n",
      "0b111111\n",
      "0b1\n",
      "0b11111\n",
      "0b0\n",
      "0b1111\n",
      "0b1\n",
      "0b111\n",
      "0b0\n",
      "0b11\n",
      "0b1\n",
      "0b1\n",
      "0b0\n"
     ]
    },
    {
     "data": {
      "text/plain": [
       "0"
      ]
     },
     "execution_count": 17,
     "metadata": {},
     "output_type": "execute_result"
    }
   ],
   "source": [
    "\"\"\" \n",
    "1011 ==> 1\n",
    "10001000 ==> 0\n",
    "\"\"\"\n",
    "x = int(b'1011')\n",
    "result = 0\n",
    "while x:\n",
    "    result ^= x & 1\n",
    "    print(bin(x))\n",
    "    print(bin(result))\n",
    "    x >>= 1\n",
    "\n",
    "result"
   ]
  },
  {
   "cell_type": "markdown",
   "id": "e5ab4e3a",
   "metadata": {},
   "source": [
    "![alternative](./imgs/4.1_2.png)"
   ]
  },
  {
   "cell_type": "markdown",
   "id": "8d7d8e97",
   "metadata": {},
   "source": [
    "![alternative](./imgs/4.7.png)"
   ]
  },
  {
   "cell_type": "code",
   "execution_count": 1,
   "id": "86b5f537",
   "metadata": {},
   "outputs": [
    {
     "name": "stdout",
     "output_type": "stream",
     "text": [
      "1\n",
      "1\n",
      "1\n"
     ]
    }
   ],
   "source": [
    "def power(x,y):\n",
    "    result, power = 1.0, Y\n",
    "    if y < 0:\n",
    "        power, x =- power, 1.0/x \n",
    "    while power:\n",
    "        if power & 1: \n",
    "            result *= x\n",
    "        x, power = x * x, power >> 1 \n",
    "    return result\n",
    "\n",
    "print(power(1,1))\n",
    "print(power(2,2))\n",
    "print(power(3,4))"
   ]
  },
  {
   "cell_type": "code",
   "execution_count": 2,
   "id": "95a8b0f5",
   "metadata": {},
   "outputs": [
    {
     "data": {
      "text/plain": [
       "81"
      ]
     },
     "execution_count": 2,
     "metadata": {},
     "output_type": "execute_result"
    }
   ],
   "source": [
    "3**4"
   ]
  },
  {
   "cell_type": "code",
   "execution_count": null,
   "id": "045ceedd",
   "metadata": {},
   "outputs": [],
   "source": []
  }
 ],
 "metadata": {
  "kernelspec": {
   "display_name": "Python 3 (ipykernel)",
   "language": "python",
   "name": "python3"
  },
  "language_info": {
   "codemirror_mode": {
    "name": "ipython",
    "version": 3
   },
   "file_extension": ".py",
   "mimetype": "text/x-python",
   "name": "python",
   "nbconvert_exporter": "python",
   "pygments_lexer": "ipython3",
   "version": "3.10.10"
  }
 },
 "nbformat": 4,
 "nbformat_minor": 5
}

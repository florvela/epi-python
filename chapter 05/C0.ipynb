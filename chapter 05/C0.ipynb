{
 "cells": [
  {
   "cell_type": "markdown",
   "id": "3b55bfec",
   "metadata": {},
   "source": [
    "![alternative](./imgs/1.png)\n",
    "![alternative](./imgs/2.png)\n",
    "![alternative](./imgs/3.png)"
   ]
  },
  {
   "cell_type": "code",
   "execution_count": 11,
   "id": "3b14489a",
   "metadata": {},
   "outputs": [],
   "source": [
    "def dutch_flag_partition(pivot_index, A) :\n",
    "    pivot = A[pivot_index]\n",
    "    # Keep the following invariants during partitioning:\n",
    "    # botton group: A[:sma]IerJ.\n",
    "    # niddle gtoup: lfsnal]er:equa7l.\n",
    "    # unc]assifi ed. group: A[equal: Targer] .\n",
    "    # top group: A[Targer: ] .\n",
    "    smaller, equal, larger = 0, 0, len(A)\n",
    "    \n",
    "    # Keep iterating as -Iong as there is an unclassified elenent \n",
    "    while equal < larger:\n",
    "        # A[equal] is the inconing unclassjfied element, \n",
    "        if A[equal] < pivot:\n",
    "            A[smaller], A[equal] = A[equal], A[smaller]\n",
    "            smaller , equal = smaller + 1, equal + 1 \n",
    "        elif A[equal] == pivot:\n",
    "            equal += 1\n",
    "        else: # A[equal] > pivot.\n",
    "            larger -= 1\n",
    "            A[equal], A[larger] = A[larger] , A[equal]\n",
    "    \n",
    "    return A"
   ]
  },
  {
   "cell_type": "code",
   "execution_count": 12,
   "id": "a6a3dd18",
   "metadata": {},
   "outputs": [
    {
     "name": "stdout",
     "output_type": "stream",
     "text": [
      "[0, 0, 2, 2, 1, 1, 1]\n",
      "[0, 0, 1, 1, 1, 2, 2]\n"
     ]
    }
   ],
   "source": [
    "print(dutch_flag_partition(3,[0,1,2,0,2,1,1]))\n",
    "print(dutch_flag_partition(1,[0,1,2,0,2,1,1]))"
   ]
  },
  {
   "cell_type": "markdown",
   "id": "36b1e4a5",
   "metadata": {},
   "source": [
    "![alternative](./imgs/4.png)\n",
    "![alternative](./imgs/5.png)"
   ]
  },
  {
   "cell_type": "code",
   "execution_count": 19,
   "id": "cb4b61da",
   "metadata": {},
   "outputs": [
    {
     "data": {
      "text/plain": [
       "30"
      ]
     },
     "execution_count": 19,
     "metadata": {},
     "output_type": "execute_result"
    }
   ],
   "source": [
    "def max_return(stock_prices):\n",
    "    max_return = 0\n",
    "\n",
    "    for i in range(len(stock_prices)-1):\n",
    "        for j in range(i+1, len(stock_prices)):\n",
    "            max_return = max(max_return, stock_prices[j] - stock_prices[i])    \n",
    "\n",
    "    return max_return\n",
    "\n",
    "\n",
    "stock_prices = [310,315,275,295,260,270,290,230,255,250]\n",
    "max_return(stock_prices)"
   ]
  },
  {
   "cell_type": "code",
   "execution_count": null,
   "id": "f09bf2c9",
   "metadata": {},
   "outputs": [],
   "source": []
  }
 ],
 "metadata": {
  "kernelspec": {
   "display_name": "Python 3 (ipykernel)",
   "language": "python",
   "name": "python3"
  },
  "language_info": {
   "codemirror_mode": {
    "name": "ipython",
    "version": 3
   },
   "file_extension": ".py",
   "mimetype": "text/x-python",
   "name": "python",
   "nbconvert_exporter": "python",
   "pygments_lexer": "ipython3",
   "version": "3.10.10"
  }
 },
 "nbformat": 4,
 "nbformat_minor": 5
}

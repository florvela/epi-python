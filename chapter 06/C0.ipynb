{
 "cells": [
  {
   "cell_type": "markdown",
   "id": "2232f623",
   "metadata": {},
   "source": [
    "![alternative](./imgs/1.png)"
   ]
  },
  {
   "cell_type": "code",
   "execution_count": 7,
   "id": "38fbbb7f",
   "metadata": {},
   "outputs": [],
   "source": [
    "def encode_int_to_str(number:int):\n",
    "    \"\"\"Receives an int and returns the string that encodes it.\"\"\"\n",
    "    \n",
    "    digits = {0:\"0\",1:\"1\",2:\"2\",3:\"3\",4:\"4\",5:\"5\",6:\"6\",7:\"7\",8:\"8\",9:\"9\"}\n",
    "    negative = False\n",
    "    result = \"\"\n",
    "    \n",
    "    if number < 0:\n",
    "        negative = True\n",
    "        number = number * -1\n",
    "    \n",
    "    while number:\n",
    "        curr_digit = number%10\n",
    "        \n",
    "        result += digits[curr_digit]\n",
    "        \n",
    "        number = number//10\n",
    "    \n",
    "    if negative:\n",
    "        result += \"-\"\n",
    "    \n",
    "    return result[::-1]"
   ]
  },
  {
   "cell_type": "code",
   "execution_count": 8,
   "id": "fc68df5b",
   "metadata": {},
   "outputs": [
    {
     "data": {
      "text/plain": [
       "'123'"
      ]
     },
     "execution_count": 8,
     "metadata": {},
     "output_type": "execute_result"
    }
   ],
   "source": [
    "encode_int_to_str(123)"
   ]
  },
  {
   "cell_type": "code",
   "execution_count": 9,
   "id": "6bae2b27",
   "metadata": {},
   "outputs": [
    {
     "data": {
      "text/plain": [
       "'-123'"
      ]
     },
     "execution_count": 9,
     "metadata": {},
     "output_type": "execute_result"
    }
   ],
   "source": [
    "encode_int_to_str(-123)"
   ]
  },
  {
   "cell_type": "code",
   "execution_count": 10,
   "id": "2ea48df0",
   "metadata": {},
   "outputs": [],
   "source": [
    "def encode_str_to_int(string:str):\n",
    "    \"\"\"Receives an str and returns the int that it encodes.\"\"\"\n",
    "    \n",
    "    digits = {\"0\":0,\"1\":1,\"2\":2,\"3\":3,\"4\":4,\"5\":5,\"6\":6,\"7\":7,\"8\":8,\"9\":9}\n",
    "    \n",
    "    result = 0\n",
    "    position = 1\n",
    "    \n",
    "    for char in string[::-1]:\n",
    "        if char == \"-\":\n",
    "            result *= -1\n",
    "        else:\n",
    "            result += digits[char] * position\n",
    "            position *= 10\n",
    "    \n",
    "    return result"
   ]
  },
  {
   "cell_type": "code",
   "execution_count": 11,
   "id": "dc5690f7",
   "metadata": {},
   "outputs": [
    {
     "data": {
      "text/plain": [
       "123"
      ]
     },
     "execution_count": 11,
     "metadata": {},
     "output_type": "execute_result"
    }
   ],
   "source": [
    "encode_str_to_int(\"123\")"
   ]
  },
  {
   "cell_type": "code",
   "execution_count": 12,
   "id": "5a57814e",
   "metadata": {},
   "outputs": [
    {
     "data": {
      "text/plain": [
       "-123"
      ]
     },
     "execution_count": 12,
     "metadata": {},
     "output_type": "execute_result"
    }
   ],
   "source": [
    "encode_str_to_int(\"-123\")"
   ]
  },
  {
   "cell_type": "code",
   "execution_count": null,
   "id": "52e5c76a",
   "metadata": {},
   "outputs": [],
   "source": []
  }
 ],
 "metadata": {
  "kernelspec": {
   "display_name": "Python 3 (ipykernel)",
   "language": "python",
   "name": "python3"
  },
  "language_info": {
   "codemirror_mode": {
    "name": "ipython",
    "version": 3
   },
   "file_extension": ".py",
   "mimetype": "text/x-python",
   "name": "python",
   "nbconvert_exporter": "python",
   "pygments_lexer": "ipython3",
   "version": "3.10.10"
  }
 },
 "nbformat": 4,
 "nbformat_minor": 5
}

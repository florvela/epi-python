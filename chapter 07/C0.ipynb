{
 "cells": [
  {
   "cell_type": "markdown",
   "id": "e9608432",
   "metadata": {},
   "source": [
    "![alternative](./imgs/1.png)"
   ]
  },
  {
   "cell_type": "code",
   "execution_count": 65,
   "id": "1ca51b56",
   "metadata": {},
   "outputs": [],
   "source": [
    "class Node():\n",
    "    def __init__(self,value):\n",
    "        self.value = value\n",
    "        self.next = None\n",
    "\n",
    "class LinkedList():\n",
    "    def __init__(self):\n",
    "        self.head = None"
   ]
  },
  {
   "cell_type": "code",
   "execution_count": 66,
   "id": "1a09d801",
   "metadata": {},
   "outputs": [],
   "source": [
    "node1 = Node(2)\n",
    "node2 = Node(5)\n",
    "node1.next = node2\n",
    "node3 = Node(7)\n",
    "node2.next = node3\n",
    "list1 = LinkedList()\n",
    "list1.head = node1"
   ]
  },
  {
   "cell_type": "code",
   "execution_count": 67,
   "id": "973c2b64",
   "metadata": {},
   "outputs": [],
   "source": [
    "node3 = Node(3)\n",
    "node4 = Node(11)\n",
    "node3.next = node4\n",
    "list2 = LinkedList()\n",
    "list2.head = node3"
   ]
  },
  {
   "cell_type": "code",
   "execution_count": 68,
   "id": "2dcf542c",
   "metadata": {},
   "outputs": [],
   "source": [
    "def merge_linked_lists(list1, list2):\n",
    "    \"\"\"function that merges two linked lists in ascending order\"\"\"\n",
    "    first_node = curr = Node(0)\n",
    "    \n",
    "    curr_list1 = list1.head\n",
    "    curr_list2 = list2.head\n",
    "    \n",
    "    while curr_list1 and curr_list2:\n",
    "        if curr_list1.value <= curr_list2.value:\n",
    "            curr.next = curr_list1\n",
    "            curr_list1 = curr_list1.next\n",
    "        else:\n",
    "            curr.next = curr_list2\n",
    "            curr_list2 = curr_list2.next\n",
    "        curr = curr.next\n",
    "    \n",
    "    curr.next = curr_list1 or curr_list2\n",
    "        \n",
    "    return first_node.next"
   ]
  },
  {
   "cell_type": "code",
   "execution_count": 69,
   "id": "86baf7e5",
   "metadata": {},
   "outputs": [],
   "source": [
    "new = merge_linked_lists(list1, list2)"
   ]
  },
  {
   "cell_type": "code",
   "execution_count": 70,
   "id": "64445f3f",
   "metadata": {},
   "outputs": [
    {
     "data": {
      "text/plain": [
       "2"
      ]
     },
     "execution_count": 70,
     "metadata": {},
     "output_type": "execute_result"
    }
   ],
   "source": [
    "new.value"
   ]
  },
  {
   "cell_type": "code",
   "execution_count": 71,
   "id": "62a99314",
   "metadata": {},
   "outputs": [
    {
     "data": {
      "text/plain": [
       "3"
      ]
     },
     "execution_count": 71,
     "metadata": {},
     "output_type": "execute_result"
    }
   ],
   "source": [
    "new.next.value"
   ]
  },
  {
   "cell_type": "code",
   "execution_count": 72,
   "id": "3c193c3f",
   "metadata": {},
   "outputs": [
    {
     "data": {
      "text/plain": [
       "5"
      ]
     },
     "execution_count": 72,
     "metadata": {},
     "output_type": "execute_result"
    }
   ],
   "source": [
    "new.next.next.value"
   ]
  },
  {
   "cell_type": "code",
   "execution_count": 73,
   "id": "5503f0f9",
   "metadata": {},
   "outputs": [
    {
     "data": {
      "text/plain": [
       "7"
      ]
     },
     "execution_count": 73,
     "metadata": {},
     "output_type": "execute_result"
    }
   ],
   "source": [
    "new.next.next.next.value"
   ]
  },
  {
   "cell_type": "code",
   "execution_count": 74,
   "id": "6581dc2b",
   "metadata": {},
   "outputs": [
    {
     "data": {
      "text/plain": [
       "11"
      ]
     },
     "execution_count": 74,
     "metadata": {},
     "output_type": "execute_result"
    }
   ],
   "source": [
    "new.next.next.next.next.value"
   ]
  },
  {
   "cell_type": "code",
   "execution_count": null,
   "id": "a7a7e9a9",
   "metadata": {},
   "outputs": [],
   "source": []
  }
 ],
 "metadata": {
  "kernelspec": {
   "display_name": "Python 3 (ipykernel)",
   "language": "python",
   "name": "python3"
  },
  "language_info": {
   "codemirror_mode": {
    "name": "ipython",
    "version": 3
   },
   "file_extension": ".py",
   "mimetype": "text/x-python",
   "name": "python",
   "nbconvert_exporter": "python",
   "pygments_lexer": "ipython3",
   "version": "3.10.10"
  }
 },
 "nbformat": 4,
 "nbformat_minor": 5
}

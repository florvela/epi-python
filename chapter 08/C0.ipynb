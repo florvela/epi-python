{
 "cells": [
  {
   "cell_type": "markdown",
   "id": "ae8601a8",
   "metadata": {},
   "source": [
    "![alternative](./imgs/1.png)"
   ]
  },
  {
   "cell_type": "code",
   "execution_count": 43,
   "id": "e858984b",
   "metadata": {},
   "outputs": [],
   "source": [
    "class Node():\n",
    "    def __init__(self, value):\n",
    "        self.value = value\n",
    "        self.next = None\n",
    "        self.max = value\n",
    "        \n",
    "class Stack():\n",
    "    def __init__(self):\n",
    "        self.head = None\n",
    "    \n",
    "    def push(self, node):\n",
    "        self.head, self.head.next = node, self.head\n",
    "        if self.head.next:\n",
    "            self.head.max = max(self.head.value, self.head.next.max)\n",
    "        else:\n",
    "            self.head.max = self.head.value\n",
    "        \n",
    "    def pop(self):\n",
    "        temp = self.head\n",
    "        self.head = self.head.next\n",
    "        return temp\n",
    "    \n",
    "    def get_max(self):\n",
    "        return self.head.max\n",
    "        "
   ]
  },
  {
   "cell_type": "code",
   "execution_count": 44,
   "id": "379039b6",
   "metadata": {},
   "outputs": [],
   "source": [
    "node1 = Node(2)\n",
    "node2 = Node(5)\n",
    "node3 = Node(3)\n",
    "node4 = Node(7)\n",
    "node5 = Node(11)"
   ]
  },
  {
   "cell_type": "code",
   "execution_count": 45,
   "id": "a99af2ec",
   "metadata": {},
   "outputs": [],
   "source": [
    "stack = Stack()"
   ]
  },
  {
   "cell_type": "code",
   "execution_count": 46,
   "id": "8eba4077",
   "metadata": {},
   "outputs": [
    {
     "data": {
      "text/plain": [
       "2"
      ]
     },
     "execution_count": 46,
     "metadata": {},
     "output_type": "execute_result"
    }
   ],
   "source": [
    "stack.push(node1)\n",
    "stack.get_max()"
   ]
  },
  {
   "cell_type": "code",
   "execution_count": 47,
   "id": "97dd5c1f",
   "metadata": {},
   "outputs": [
    {
     "data": {
      "text/plain": [
       "5"
      ]
     },
     "execution_count": 47,
     "metadata": {},
     "output_type": "execute_result"
    }
   ],
   "source": [
    "stack.push(node2)\n",
    "stack.get_max()"
   ]
  },
  {
   "cell_type": "code",
   "execution_count": 48,
   "id": "ac2ee6c3",
   "metadata": {},
   "outputs": [
    {
     "data": {
      "text/plain": [
       "5"
      ]
     },
     "execution_count": 48,
     "metadata": {},
     "output_type": "execute_result"
    }
   ],
   "source": [
    "stack.pop().value"
   ]
  },
  {
   "cell_type": "code",
   "execution_count": 49,
   "id": "79c52c67",
   "metadata": {},
   "outputs": [
    {
     "data": {
      "text/plain": [
       "2"
      ]
     },
     "execution_count": 49,
     "metadata": {},
     "output_type": "execute_result"
    }
   ],
   "source": [
    "stack.get_max()"
   ]
  },
  {
   "cell_type": "code",
   "execution_count": 50,
   "id": "1ad7f621",
   "metadata": {},
   "outputs": [
    {
     "data": {
      "text/plain": [
       "3"
      ]
     },
     "execution_count": 50,
     "metadata": {},
     "output_type": "execute_result"
    }
   ],
   "source": [
    "stack.push(node3)\n",
    "stack.get_max()"
   ]
  },
  {
   "cell_type": "code",
   "execution_count": 51,
   "id": "4336c400",
   "metadata": {},
   "outputs": [
    {
     "data": {
      "text/plain": [
       "11"
      ]
     },
     "execution_count": 51,
     "metadata": {},
     "output_type": "execute_result"
    }
   ],
   "source": [
    "stack.push(node5)\n",
    "stack.get_max()"
   ]
  },
  {
   "cell_type": "code",
   "execution_count": 52,
   "id": "41236ae7",
   "metadata": {},
   "outputs": [
    {
     "data": {
      "text/plain": [
       "11"
      ]
     },
     "execution_count": 52,
     "metadata": {},
     "output_type": "execute_result"
    }
   ],
   "source": [
    "stack.push(node4)\n",
    "stack.get_max()"
   ]
  },
  {
   "cell_type": "code",
   "execution_count": null,
   "id": "65056672",
   "metadata": {},
   "outputs": [],
   "source": []
  }
 ],
 "metadata": {
  "kernelspec": {
   "display_name": "Python 3 (ipykernel)",
   "language": "python",
   "name": "python3"
  },
  "language_info": {
   "codemirror_mode": {
    "name": "ipython",
    "version": 3
   },
   "file_extension": ".py",
   "mimetype": "text/x-python",
   "name": "python",
   "nbconvert_exporter": "python",
   "pygments_lexer": "ipython3",
   "version": "3.10.10"
  }
 },
 "nbformat": 4,
 "nbformat_minor": 5
}

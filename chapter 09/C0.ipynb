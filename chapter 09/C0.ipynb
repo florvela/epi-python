{
 "cells": [
  {
   "cell_type": "markdown",
   "id": "91af99f5",
   "metadata": {},
   "source": [
    "![alternative](./imgs/1.png)\n",
    "![alternative](./imgs/2.png)"
   ]
  },
  {
   "cell_type": "code",
   "execution_count": 1,
   "id": "4639be36",
   "metadata": {},
   "outputs": [],
   "source": [
    "class BinaryTreeNode:\n",
    "    def __init__(self, data, left=None, right=None):\n",
    "        self.data = data\n",
    "        self.right = right\n",
    "        self.left = left"
   ]
  },
  {
   "cell_type": "code",
   "execution_count": 14,
   "id": "7aad7a0d",
   "metadata": {},
   "outputs": [],
   "source": [
    "class Result():\n",
    "    def __init__(self, balanced, height):\n",
    "        self.balanced = balanced\n",
    "        self.height = height\n",
    "\n",
    "def check_balanced(root):\n",
    "    if not root:\n",
    "        return Result(True, -1)\n",
    "\n",
    "    left_result = check_balanced(root.left)\n",
    "    if not left_result.balanced:\n",
    "        return left_result\n",
    "\n",
    "    right_result = check_balanced(root.right)\n",
    "    if not right_result.balanced:\n",
    "        return right_result\n",
    "\n",
    "    is_balanced = abs(left_result.height - right_result.height) <= 1\n",
    "\n",
    "    height = max(left_result.height, right_result.height) + 1\n",
    "\n",
    "    return Result(is_balanced, height)\n",
    "    \n",
    "    \n",
    "def height_balanced_tree(root):\n",
    "    \n",
    "    return check_balanced(root).balanced\n",
    "        "
   ]
  },
  {
   "cell_type": "code",
   "execution_count": 18,
   "id": "c3885950",
   "metadata": {},
   "outputs": [
    {
     "data": {
      "text/plain": [
       "False"
      ]
     },
     "execution_count": 18,
     "metadata": {},
     "output_type": "execute_result"
    }
   ],
   "source": [
    "node1 = BinaryTreeNode(1)\n",
    "node2 = BinaryTreeNode(1, node1, None)\n",
    "node3 = BinaryTreeNode(1)\n",
    "node4 = BinaryTreeNode(1, node2, None)\n",
    "root = BinaryTreeNode(1, node3, node4)\n",
    "\n",
    "height_balanced_tree(root)"
   ]
  },
  {
   "cell_type": "code",
   "execution_count": null,
   "id": "40d6ea95",
   "metadata": {},
   "outputs": [],
   "source": []
  }
 ],
 "metadata": {
  "kernelspec": {
   "display_name": "Python 3 (ipykernel)",
   "language": "python",
   "name": "python3"
  },
  "language_info": {
   "codemirror_mode": {
    "name": "ipython",
    "version": 3
   },
   "file_extension": ".py",
   "mimetype": "text/x-python",
   "name": "python",
   "nbconvert_exporter": "python",
   "pygments_lexer": "ipython3",
   "version": "3.10.10"
  }
 },
 "nbformat": 4,
 "nbformat_minor": 5
}

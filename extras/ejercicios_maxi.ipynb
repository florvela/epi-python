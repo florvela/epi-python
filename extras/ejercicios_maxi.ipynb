{
 "cells": [
  {
   "cell_type": "markdown",
   "id": "de4ca113",
   "metadata": {},
   "source": [
    "Una empresa factura a sus clientes el último día de cada mes. Si el cliente paga\n",
    "su factura dentro de los primeros 10 días del mes siguiente, tiene un descuento\n",
    "de $200 o del 2%\n",
    "de la factura, lo que resulte más conveniente para el cliente.\n",
    "\n",
    "Si paga en los siguientes 10 días del mes deberá pagar el importe original de la\n",
    "factura, mientras que si paga después del día 20 deberá abonar una multa de\n",
    "$350 o del 10% de su factura, lo que resulte mayor. \n",
    "\n",
    "Escribir un programa que\n",
    "lea el número del cliente y el total de la factura, y emita un informe donde conste el número del cliente y los tres importes que podría abonar según la fecha de\n",
    "pago."
   ]
  },
  {
   "cell_type": "code",
   "execution_count": 18,
   "id": "78535d04",
   "metadata": {},
   "outputs": [],
   "source": [
    "def pago_temprano(importe):\n",
    "    descuento_2_perc = importe - (importe * 0.02)\n",
    "    descuento_200 = importe - 200\n",
    "    return min(descuento_2_perc, descuento_200)"
   ]
  },
  {
   "cell_type": "code",
   "execution_count": 19,
   "id": "8868cb77",
   "metadata": {},
   "outputs": [],
   "source": [
    "def pago_tardio(importe):\n",
    "    multa_10_perc = importe + (importe * 0.1)\n",
    "    multa_350 = importe + 350\n",
    "    return max(multa_10_perc, multa_350)"
   ]
  },
  {
   "cell_type": "code",
   "execution_count": 20,
   "id": "fab965e5",
   "metadata": {},
   "outputs": [],
   "source": [
    "def generar_reporte(id_cliente, importe):\n",
    "    print(f\"Si el cliente {id_cliente} paga dentro de los primeros 10 dias, el importe a aboonar es de ${pago_temprano(importe)}\")\n",
    "    print(f\"Si el cliente {id_cliente} paga entre los dias 11 y 20 del mes, el importe a aboonar es de ${importe}\")\n",
    "    print(f\"Si el cliente {id_cliente} paga despues de los 20 dias, el importe a aboonar es de ${pago_tardio(importe)}\")"
   ]
  },
  {
   "cell_type": "code",
   "execution_count": 22,
   "id": "2012f8d0",
   "metadata": {},
   "outputs": [
    {
     "name": "stdout",
     "output_type": "stream",
     "text": [
      "Numero de cliente: 12345\n",
      "Importe de la factura: 3000\n",
      "Si el cliente 12345 paga dentro de los primeros 10 dias, el importe a aboonar es de $2800\n",
      "Si el cliente 12345 paga entre los dias 11 y 20 del mes, el importe a aboonar es de $3000\n",
      "Si el cliente 12345 paga despues de los 20 dias, el importe a aboonar es de $3350\n"
     ]
    }
   ],
   "source": [
    "id_cliente = int(input(\"Numero de cliente: \"))\n",
    "importe = int(input(\"Importe de la factura: \"))\n",
    "generar_reporte(id_cliente, importe)"
   ]
  },
  {
   "cell_type": "code",
   "execution_count": 23,
   "id": "16888ab3",
   "metadata": {},
   "outputs": [
    {
     "name": "stdout",
     "output_type": "stream",
     "text": [
      "Numero de cliente: 12345\n",
      "Importe de la factura: 3000000\n",
      "Si el cliente 12345 paga dentro de los primeros 10 dias, el importe a aboonar es de $2940000.0\n",
      "Si el cliente 12345 paga entre los dias 11 y 20 del mes, el importe a aboonar es de $3000000\n",
      "Si el cliente 12345 paga despues de los 20 dias, el importe a aboonar es de $3300000.0\n"
     ]
    }
   ],
   "source": [
    "id_cliente = int(input(\"Numero de cliente: \"))\n",
    "importe = int(input(\"Importe de la factura: \"))\n",
    "generar_reporte(id_cliente, importe)"
   ]
  },
  {
   "cell_type": "markdown",
   "id": "c51314ff",
   "metadata": {},
   "source": [
    "# Ejercicio 1\n",
    "Se ingresa por teclado el nro de legajo de los alumnos de un curso y su nota de examen final.\n",
    "\n",
    "El fin de la carga se determina ingresando un -1, en la variable del legajo.\n",
    "\n",
    "Se debe validar que la nota ingresada sea entre 1 y 10.\n",
    "\n",
    "Se pide informar:\n",
    "\n",
    "1) Cantidad de alumnos con nota >= 7\n",
    "\n",
    "2) Cantidad de alumnos con nota >= 4 y <7\n",
    "\n",
    "3) Porcentaje de alumnos que están aplazados.\n",
    "\n",
    "4) Cantidad total de alumnos.\n",
    "\n",
    "5) La nota más alta con su numero de legajo."
   ]
  },
  {
   "cell_type": "code",
   "execution_count": null,
   "id": "03c49c88",
   "metadata": {},
   "outputs": [],
   "source": [
    "legajo = int(input(\"Ingrese un legajo\"))\n",
    "mayor = 0\n",
    "nota4 = 0\n",
    "notaint = 0\n",
    "nota7  = 0\n",
    "alumno = 0\n",
    "porc = 0\n",
    "legajom = -1 # siempre inicializa la variable\n",
    "\n",
    "while legajo != -1:\n",
    "    nota=float(input(\"Ingrese una nota\"))\n",
    "     \n",
    "    while nota<1 or nota >10:\n",
    "        print (\"Ingrese otra nota entre 1 y 10:\")\n",
    "        nota=float(input(\"Ingrese una nota\"))\n",
    "    \n",
    "    if nota<4:\n",
    "        nota4=nota4+1\n",
    "    elif nota>=4 and nota<7:\n",
    "        notaint=notaint+1\n",
    "    else:\n",
    "        nota7=nota7+1\n",
    "   \n",
    "    if nota > mayor: # si la nota actual es la nota mas alta de las que tenes, \n",
    "                    # ahora esta nota es la mas alta, y te guardas el legajo como legajom\n",
    "                    # (por legajo mayor)\n",
    "        mayor=nota\n",
    "        legajom=legajo\n",
    "    \n",
    "    # este va indentado aca, porque queres contar TODOS los alumnos,  no solo cuando es mayor la nota\n",
    "    alumno=alumno +1\n",
    "    legajo=int(input(\"Ingrese un legajo\"))\n",
    "\n",
    "if alumno != 0:\n",
    "    print (\"Cantidad de alumnos con nota >= 7 \",nota7)     \n",
    "    print (\"Cantidad de alumnos con nota >= 4 y <7 \",notaint)\n",
    "    print (\"Cantidad de alumnos aplazados \",nota4)\n",
    "    print (\"Cantidad de alumnos\",alumno)\n",
    "    print (\"Nota mas alta\", mayor, \"su nro de legajo es\", legajom) \n",
    "\n",
    "    porc = nota4 *100/alumno\n",
    "    print (\"Porcentajes de alumnos aplazados \",porc)\n",
    "else:\n",
    "    print (\"No se ingresaron notas\")"
   ]
  },
  {
   "cell_type": "markdown",
   "id": "49740a81",
   "metadata": {},
   "source": [
    "# Ejercicio 2\n",
    "Leer un número entero y mostrar un mensaje informando cuántos dígitos contiene.\n",
    "Ejemplo: Si se ingresa 12345 debe imprimir 5."
   ]
  },
  {
   "cell_type": "code",
   "execution_count": 44,
   "id": "91b4ed1f",
   "metadata": {},
   "outputs": [
    {
     "name": "stdout",
     "output_type": "stream",
     "text": [
      "Ingrese un valor 12345\n",
      "el numero 12345 tiene 5 digitos\n"
     ]
    }
   ],
   "source": [
    "nro = int(input(\"Ingrese un valor \"))\n",
    "\n",
    "nro_temp = nro # nos quedamos con la copia del numero para el print al final\n",
    "                # porque le vamos a hacer cambios al numero original\n",
    "\n",
    "# si el numero es negativo, lo multiplicamos por -1 para sacarle el signo\n",
    "if nro < 0:\n",
    "    nro = nro * (-1)\n",
    "\n",
    "cant = 0 # contador para guardar la cantidad de digitos\n",
    "\n",
    "while nro > 0: \n",
    "    # vamos dividiendo el numero por 10 para sacarle digitos y sumamos en cant para contar cuantas veces\n",
    "    # lo tuvimos que hacer\n",
    "    nro = nro//10\n",
    "    cant = cant + 1\n",
    "\n",
    "print (\"el numero\",nro_temp,\"tiene\",cant,\"digitos\")"
   ]
  },
  {
   "cell_type": "markdown",
   "id": "4fed1d26",
   "metadata": {},
   "source": [
    "ejemplo: -12345\n",
    "\n",
    "primero le sacamos el signo:\n",
    "\n",
    "```python\n",
    "if nro < 0:\n",
    "    nro = nro * (-1)\n",
    "```\n",
    "\n",
    "entonces queda: 12345\n",
    "\n",
    "cuando entramos en el while:\n",
    "\n",
    "```python\n",
    "nro = nro//10\n",
    "```\n",
    "nro = 12345 // 10 = 1234 (le sacamos el 5)\n",
    "\n",
    "sumamos 1 a cant\n",
    "\n",
    "ahora nro = 1234\n",
    "\n",
    "nro // 10 = 1234 // 10 = 123 (le sacamos el 4)\n",
    "\n",
    "sumamos 1 a cant\n",
    "\n",
    "..."
   ]
  },
  {
   "cell_type": "code",
   "execution_count": null,
   "id": "89f7f692",
   "metadata": {},
   "outputs": [],
   "source": []
  }
 ],
 "metadata": {
  "kernelspec": {
   "display_name": "Python 3",
   "language": "python",
   "name": "python3"
  },
  "language_info": {
   "codemirror_mode": {
    "name": "ipython",
    "version": 3
   },
   "file_extension": ".py",
   "mimetype": "text/x-python",
   "name": "python",
   "nbconvert_exporter": "python",
   "pygments_lexer": "ipython3",
   "version": "3.8.8"
  }
 },
 "nbformat": 4,
 "nbformat_minor": 5
}

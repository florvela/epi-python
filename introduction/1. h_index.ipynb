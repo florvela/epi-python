{
 "cells": [
  {
   "cell_type": "markdown",
   "id": "98afa1af",
   "metadata": {},
   "source": [
    "# H-index\n",
    "\n",
    "h-index is a metric that mesures both the productivity and citation impact of a researcher. Specifically a researcher's h-index is the largest number h such that the researcher has published h papers that have been citated at least h times. For example, if Carl has publiches papers A,B,C,D,E,F,G,H,I, which have been cited 1,4,1,4,2,1,3,5,6 times, respectively, then his h-index is 4 (corresponding to the papers B,d,H,I)\n",
    "\n",
    "Design an algorithm that determines a researcher's h-index."
   ]
  },
  {
   "cell_type": "markdown",
   "id": "f02b4708",
   "metadata": {},
   "source": [
    "## Questions to ask\n",
    "* what is the input format?\n",
    "    * It is an array of positive numbers representing the citations count\n",
    "* Can I modify the array?\n",
    "    * Yes\n",
    "* Is the array sorted?\n",
    "    * Not necessarily "
   ]
  },
  {
   "cell_type": "code",
   "execution_count": 42,
   "id": "a6729506",
   "metadata": {},
   "outputs": [],
   "source": [
    "paper_citations = [1,4,1,4,2,1,3,5,4]"
   ]
  },
  {
   "cell_type": "code",
   "execution_count": 43,
   "id": "932cb9c0",
   "metadata": {},
   "outputs": [
    {
     "data": {
      "text/plain": [
       "[0, 0, 0, 0, 0, 0, 0, 0, 0]"
      ]
     },
     "execution_count": 43,
     "metadata": {},
     "output_type": "execute_result"
    }
   ],
   "source": [
    "counts = [0]*len(paper_citations) # adds space complexity O(M)\n",
    "counts"
   ]
  },
  {
   "cell_type": "code",
   "execution_count": 44,
   "id": "6f6a896a",
   "metadata": {},
   "outputs": [],
   "source": [
    "for citations in paper_citations: # O(N2)\n",
    "    for i in range(citations+1):\n",
    "        counts[i] += 1"
   ]
  },
  {
   "cell_type": "code",
   "execution_count": 45,
   "id": "46d6b554",
   "metadata": {},
   "outputs": [
    {
     "data": {
      "text/plain": [
       "[9, 9, 6, 5, 4, 1, 0, 0, 0]"
      ]
     },
     "execution_count": 45,
     "metadata": {},
     "output_type": "execute_result"
    }
   ],
   "source": [
    "counts"
   ]
  },
  {
   "cell_type": "code",
   "execution_count": 46,
   "id": "8700d5ed",
   "metadata": {},
   "outputs": [
    {
     "data": {
      "text/plain": [
       "4"
      ]
     },
     "execution_count": 46,
     "metadata": {},
     "output_type": "execute_result"
    }
   ],
   "source": [
    "max_count = -1\n",
    "for i, count in enumerate(counts):\n",
    "    if count >= i and i > max_count:\n",
    "        max_count = i\n",
    "\n",
    "max_count"
   ]
  },
  {
   "cell_type": "markdown",
   "id": "11c1c37c",
   "metadata": {},
   "source": [
    "## Book Solution"
   ]
  },
  {
   "cell_type": "code",
   "execution_count": 50,
   "id": "79682a67",
   "metadata": {},
   "outputs": [],
   "source": [
    "def h_index(citations):\n",
    "    citations.sort()\n",
    "    n = len(citations)\n",
    "    for i, c in enumerate(citations): # time complexity O(N)\n",
    "        if c >= n-i:\n",
    "            return n-i\n",
    "    return 0"
   ]
  },
  {
   "cell_type": "code",
   "execution_count": 51,
   "id": "46f129d4",
   "metadata": {},
   "outputs": [
    {
     "data": {
      "text/plain": [
       "4"
      ]
     },
     "execution_count": 51,
     "metadata": {},
     "output_type": "execute_result"
    }
   ],
   "source": [
    "h_index(paper_citations)"
   ]
  }
 ],
 "metadata": {
  "kernelspec": {
   "display_name": "Python 3 (ipykernel)",
   "language": "python",
   "name": "python3"
  },
  "language_info": {
   "codemirror_mode": {
    "name": "ipython",
    "version": 3
   },
   "file_extension": ".py",
   "mimetype": "text/x-python",
   "name": "python",
   "nbconvert_exporter": "python",
   "pygments_lexer": "ipython3",
   "version": "3.9.12"
  }
 },
 "nbformat": 4,
 "nbformat_minor": 5
}

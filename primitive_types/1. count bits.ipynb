{
 "cells": [
  {
   "cell_type": "markdown",
   "id": "148c4ee5",
   "metadata": {},
   "source": [
    "Count the number of bits that are set to 1 in a nonnegative integer."
   ]
  },
  {
   "cell_type": "code",
   "execution_count": 18,
   "id": "dd53a889",
   "metadata": {},
   "outputs": [],
   "source": [
    "def count_bits(x: int) -> int:\n",
    "    num_bits = 0\n",
    "    while x:                   # O(N) where N = num of bits\n",
    "        num_bits += 1\n",
    "        x >>= 1\n",
    "    return num_bits"
   ]
  },
  {
   "cell_type": "code",
   "execution_count": 19,
   "id": "2c0eee50",
   "metadata": {},
   "outputs": [
    {
     "data": {
      "text/plain": [
       "2"
      ]
     },
     "execution_count": 19,
     "metadata": {},
     "output_type": "execute_result"
    }
   ],
   "source": [
    "count_bits(2)"
   ]
  },
  {
   "cell_type": "code",
   "execution_count": 20,
   "id": "1ac0a751",
   "metadata": {},
   "outputs": [
    {
     "data": {
      "text/plain": [
       "2"
      ]
     },
     "execution_count": 20,
     "metadata": {},
     "output_type": "execute_result"
    }
   ],
   "source": [
    "count_bits(3)"
   ]
  },
  {
   "cell_type": "code",
   "execution_count": 22,
   "id": "996763ba",
   "metadata": {},
   "outputs": [],
   "source": [
    "assert count_bits(12) == 4"
   ]
  },
  {
   "cell_type": "code",
   "execution_count": null,
   "id": "1e9383c1",
   "metadata": {},
   "outputs": [],
   "source": []
  }
 ],
 "metadata": {
  "kernelspec": {
   "display_name": "Python 3 (ipykernel)",
   "language": "python",
   "name": "python3"
  },
  "language_info": {
   "codemirror_mode": {
    "name": "ipython",
    "version": 3
   },
   "file_extension": ".py",
   "mimetype": "text/x-python",
   "name": "python",
   "nbconvert_exporter": "python",
   "pygments_lexer": "ipython3",
   "version": "3.9.12"
  }
 },
 "nbformat": 4,
 "nbformat_minor": 5
}

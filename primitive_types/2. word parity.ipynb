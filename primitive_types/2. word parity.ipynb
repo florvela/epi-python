{
 "cells": [
  {
   "cell_type": "markdown",
   "id": "9e20cf56",
   "metadata": {},
   "source": [
    "# Computing the parity of a word\n",
    "\n",
    "The parity of a word is 1 if the number os 1s in the word is odd; otherwise, it is 0.\n",
    "\n",
    "For example, the parity of 1011 is 1, and the parity of 10001000 is 0.\n",
    "\n",
    "Parity checks are used to detect single bit errors in data storage and communication. It is fairly straightforward to write code that comoputes the parity of a single 64-bit word.\n",
    "\n",
    "How would you compute the parity of a very large number of 64-bit words?\n",
    "\n",
    "Hint: use a lookup table, but dont use 2^64 entries!"
   ]
  },
  {
   "cell_type": "code",
   "execution_count": 2,
   "id": "9f6bea38",
   "metadata": {},
   "outputs": [],
   "source": [
    "def parity(x):\n",
    "    result = 0\n",
    "    \n",
    "    while x:\n",
    "        \n",
    "        # viendo si el ultimo bit es 0 o 1\n",
    "        last_bit = x & 1\n",
    "        \n",
    "        # haciendo XOR con result para ver el parity,\n",
    "        # si result es 0, y el bit 1 => XOR = 1\n",
    "        # si result es 1 y el bit es 1 => XOR = 0 se resetea el parity\n",
    "        result ^= last_bit\n",
    "        \n",
    "        # corremos los bits del numero un lugar a la derecha para leer el siguiente bit\n",
    "        x >>= 1\n",
    "        \n",
    "    return result"
   ]
  },
  {
   "cell_type": "code",
   "execution_count": 3,
   "id": "5726b699",
   "metadata": {},
   "outputs": [
    {
     "data": {
      "text/plain": [
       "1"
      ]
     },
     "execution_count": 3,
     "metadata": {},
     "output_type": "execute_result"
    }
   ],
   "source": [
    "parity(73)"
   ]
  },
  {
   "cell_type": "code",
   "execution_count": 6,
   "id": "35393fc5",
   "metadata": {},
   "outputs": [
    {
     "data": {
      "text/plain": [
       "0"
      ]
     },
     "execution_count": 6,
     "metadata": {},
     "output_type": "execute_result"
    }
   ],
   "source": [
    "parity(10)"
   ]
  },
  {
   "cell_type": "markdown",
   "id": "bbe6b6d9",
   "metadata": {},
   "source": [
    "time complexity = O(N) where N is the size of the word.\n",
    "\n",
    "## Improving the algorithm"
   ]
  },
  {
   "cell_type": "code",
   "execution_count": 7,
   "id": "f6fc0a27",
   "metadata": {},
   "outputs": [],
   "source": [
    "def parity(x):\n",
    "    result = 0\n",
    "    \n",
    "    while x:\n",
    "        result ^= x & 1\n",
    "        \n",
    "        # drop the lowest set bit of X\n",
    "        x &= x-1\n",
    "    \n",
    "    return result"
   ]
  },
  {
   "cell_type": "code",
   "execution_count": 8,
   "id": "19ad30bc",
   "metadata": {},
   "outputs": [
    {
     "data": {
      "text/plain": [
       "1"
      ]
     },
     "execution_count": 8,
     "metadata": {},
     "output_type": "execute_result"
    }
   ],
   "source": [
    "parity(73)"
   ]
  },
  {
   "cell_type": "code",
   "execution_count": 9,
   "id": "9cde652e",
   "metadata": {},
   "outputs": [
    {
     "data": {
      "text/plain": [
       "0"
      ]
     },
     "execution_count": 9,
     "metadata": {},
     "output_type": "execute_result"
    }
   ],
   "source": [
    "parity(10)"
   ]
  },
  {
   "cell_type": "markdown",
   "id": "efb419c8",
   "metadata": {},
   "source": [
    "## attemp 3"
   ]
  },
  {
   "cell_type": "code",
   "execution_count": 10,
   "id": "a8a90128",
   "metadata": {},
   "outputs": [],
   "source": [
    "\n",
    "def parity(x):\n",
    "    mask_size = 16\n",
    "    bit_mask = 0xFFFF\n",
    "    \n",
    "    return (PRECOMPUTED_PARITY[x >> (3 * mask_size)] ^\n",
    "            PRECOMPUTED_PARITY[(x >> (2 * mask_size)) & bit_mask] ^\n",
    "            PRECOMPUTED_PARITY[(x >> mask_size) & bit_mask] ^\n",
    "            PRECOMPUTED_PARITY[x & bit_mask])"
   ]
  },
  {
   "cell_type": "code",
   "execution_count": null,
   "id": "255d01af",
   "metadata": {},
   "outputs": [],
   "source": [
    "_si"
   ]
  }
 ],
 "metadata": {
  "kernelspec": {
   "display_name": "Python 3 (ipykernel)",
   "language": "python",
   "name": "python3"
  },
  "language_info": {
   "codemirror_mode": {
    "name": "ipython",
    "version": 3
   },
   "file_extension": ".py",
   "mimetype": "text/x-python",
   "name": "python",
   "nbconvert_exporter": "python",
   "pygments_lexer": "ipython3",
   "version": "3.9.12"
  }
 },
 "nbformat": 4,
 "nbformat_minor": 5
}
